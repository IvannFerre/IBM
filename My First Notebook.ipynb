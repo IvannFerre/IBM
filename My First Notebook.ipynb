{
    "cells": [
        {
            "cell_type": "code",
            "execution_count": 6,
            "metadata": {},
            "outputs": [],
            "source": "# The code was removed by Watson Studio for sharing."
        },
        {
            "cell_type": "markdown",
            "metadata": {
                "collapsed": true
            },
            "source": "#  My First Notebook"
        },
        {
            "cell_type": "markdown",
            "metadata": {},
            "source": "Exercise 3  -This notebook was created to demonstrate some examples of tools and techniques used in data analysis and data science."
        },
        {
            "cell_type": "markdown",
            "metadata": {},
            "source": "### Data Science Languages (Exercise 4)\n- Python\n- R\n- Julia\n"
        },
        {
            "cell_type": "markdown",
            "metadata": {},
            "source": "### Data Science Libraries (Exercise 5)\n- Pandas\n- NumPy\n- SciPy\n"
        },
        {
            "cell_type": "markdown",
            "metadata": {},
            "source": "(Exercise 6)\n\n| Tools             | Feature 1       | Feature 2       | Feature 3       |\n|-------------------|-----------------|-----------------|-----------------|\n| Pandas            | Data Manipulation |  Data Analysis | Data Preprocessing |\n| Scikit-Learn      | Machine Learning |  Model Evaluation | Feature Selection |\n| TensorFlow        | Neural Networks | Image Processing | Natural Language Processing |\n"
        },
        {
            "cell_type": "markdown",
            "metadata": {},
            "source": "(Exercise 7 )\n\nExamples of arithmetic expressions\n\n3 + 4 ,  2 * 5 , (7 - 2) / 3"
        },
        {
            "cell_type": "code",
            "execution_count": 7,
            "metadata": {},
            "outputs": [
                {
                    "name": "stdout",
                    "output_type": "stream",
                    "text": "11\n"
                }
            ],
            "source": "# Exercise 8\n\na = 2\nb = 3\nprint(a * b + a + b)\n"
        },
        {
            "cell_type": "code",
            "execution_count": 8,
            "metadata": {},
            "outputs": [
                {
                    "name": "stdout",
                    "output_type": "stream",
                    "text": "2.0\n"
                }
            ],
            "source": "# Exercise 9\n\nminutos = 120\nhoras = minutos / 60\nprint(horas)\n"
        },
        {
            "cell_type": "code",
            "execution_count": 9,
            "metadata": {},
            "outputs": [],
            "source": "# Objectives\n\n#  1) Learn how to use Jupyter Notebook.\n#  2) Practice creating Markdown cells and code.\n#  3) Learn how to share a notebook through GitHub."
        },
        {
            "cell_type": "markdown",
            "metadata": {},
            "source": "### I, Iv\u00e1n Ferre Lo Castro, am the author of this notebook."
        },
        {
            "cell_type": "code",
            "execution_count": null,
            "metadata": {},
            "outputs": [],
            "source": ""
        },
        {
            "cell_type": "code",
            "execution_count": null,
            "metadata": {},
            "outputs": [],
            "source": ""
        },
        {
            "cell_type": "code",
            "execution_count": null,
            "metadata": {},
            "outputs": [],
            "source": ""
        }
    ],
    "metadata": {
        "kernelspec": {
            "display_name": "Python 3.10",
            "language": "python",
            "name": "python3"
        },
        "language_info": {
            "codemirror_mode": {
                "name": "ipython",
                "version": 3
            },
            "file_extension": ".py",
            "mimetype": "text/x-python",
            "name": "python",
            "nbconvert_exporter": "python",
            "pygments_lexer": "ipython3",
            "version": "3.10.9"
        }
    },
    "nbformat": 4,
    "nbformat_minor": 1
}