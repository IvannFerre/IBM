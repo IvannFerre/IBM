{
    "cells": [
        {
            "cell_type": "markdown",
            "metadata": {},
            "source": "# Extracting Stock Data Using a Python Library"
        },
        {
            "cell_type": "markdown",
            "metadata": {},
            "source": "#### Aca llamamos a la libreria \" yfinance \""
        },
        {
            "cell_type": "code",
            "execution_count": 4,
            "metadata": {},
            "outputs": [],
            "source": "import yfinance as yf"
        },
        {
            "cell_type": "code",
            "execution_count": 28,
            "metadata": {},
            "outputs": [],
            "source": "apple = yf.Ticker(\"AAPL\")"
        },
        {
            "cell_type": "markdown",
            "metadata": {},
            "source": "#### Aca iba un texto que me descargaba el archivo .json de apple"
        },
        {
            "cell_type": "markdown",
            "metadata": {},
            "source": "!wget https://cf-courses-data.s3.us.cloud-object-storage.appdomain.cloud/IBMDeveloperSkillsNetwork-PY0220EN-SkillsNetwork/data/apple.json"
        },
        {
            "cell_type": "markdown",
            "metadata": {},
            "source": "#### Aca lo que hago es hacen un dictionary del archivo .json para que sea mas legible para python"
        },
        {
            "cell_type": "code",
            "execution_count": 29,
            "metadata": {},
            "outputs": [
                {
                    "data": {
                        "text/plain": "{'zip': '95014',\n 'sector': 'Technology',\n 'fullTimeEmployees': 100000,\n 'longBusinessSummary': 'Apple Inc. designs, manufactures, and markets smartphones, personal computers, tablets, wearables, and accessories worldwide. It also sells various related services. In addition, the company offers iPhone, a line of smartphones; Mac, a line of personal computers; iPad, a line of multi-purpose tablets; AirPods Max, an over-ear wireless headphone; and wearables, home, and accessories comprising AirPods, Apple TV, Apple Watch, Beats products, HomePod, and iPod touch. Further, it provides AppleCare support services; cloud services store services; and operates various platforms, including the App Store that allow customers to discover and download applications and digital content, such as books, music, video, games, and podcasts. Additionally, the company offers various services, such as Apple Arcade, a game subscription service; Apple Music, which offers users a curated listening experience with on-demand radio stations; Apple News+, a subscription news and magazine service; Apple TV+, which offers exclusive original content; Apple Card, a co-branded credit card; and Apple Pay, a cashless payment service, as well as licenses its intellectual property. The company serves consumers, and small and mid-sized businesses; and the education, enterprise, and government markets. It distributes third-party applications for its products through the App Store. The company also sells its products through its retail and online stores, and direct sales force; and third-party cellular network carriers, wholesalers, retailers, and resellers. Apple Inc. was incorporated in 1977 and is headquartered in Cupertino, California.',\n 'city': 'Cupertino',\n 'phone': '408 996 1010',\n 'state': 'CA',\n 'country': 'United States',\n 'companyOfficers': [],\n 'website': 'https://www.apple.com',\n 'maxAge': 1,\n 'address1': 'One Apple Park Way',\n 'industry': 'Consumer Electronics',\n 'ebitdaMargins': 0.33890998,\n 'profitMargins': 0.26579002,\n 'grossMargins': 0.43019,\n 'operatingCashflow': 112241000448,\n 'revenueGrowth': 0.112,\n 'operatingMargins': 0.309,\n 'ebitda': 128217997312,\n 'targetLowPrice': 160,\n 'recommendationKey': 'buy',\n 'grossProfits': 152836000000,\n 'freeCashflow': 80153247744,\n 'targetMedianPrice': 199.5,\n 'currentPrice': 177.77,\n 'earningsGrowth': 0.25,\n 'currentRatio': 1.038,\n 'returnOnAssets': 0.19875,\n 'numberOfAnalystOpinions': 44,\n 'targetMeanPrice': 193.53,\n 'debtToEquity': 170.714,\n 'returnOnEquity': 1.45567,\n 'targetHighPrice': 215,\n 'totalCash': 63913000960,\n 'totalDebt': 122797998080,\n 'totalRevenue': 378323009536,\n 'totalCashPerShare': 3.916,\n 'financialCurrency': 'USD',\n 'revenuePerShare': 22.838,\n 'quickRatio': 0.875,\n 'recommendationMean': 1.8,\n 'exchange': 'NMS',\n 'shortName': 'Apple Inc.',\n 'longName': 'Apple Inc.',\n 'exchangeTimezoneName': 'America/New_York',\n 'exchangeTimezoneShortName': 'EDT',\n 'isEsgPopulated': False,\n 'gmtOffSetMilliseconds': '-14400000',\n 'quoteType': 'EQUITY',\n 'symbol': 'AAPL',\n 'messageBoardId': 'finmb_24937',\n 'market': 'us_market',\n 'annualHoldingsTurnover': None,\n 'enterpriseToRevenue': 7.824,\n 'beta3Year': None,\n 'enterpriseToEbitda': 23.086,\n '52WeekChange': 0.4549594,\n 'morningStarRiskRating': None,\n 'forwardEps': 6.56,\n 'revenueQuarterlyGrowth': None,\n 'sharesOutstanding': 16319399936,\n 'fundInceptionDate': None,\n 'annualReportExpenseRatio': None,\n 'totalAssets': None,\n 'bookValue': 4.402,\n 'sharesShort': 111286790,\n 'sharesPercentSharesOut': 0.0068,\n 'fundFamily': None,\n 'lastFiscalYearEnd': 1632528000,\n 'heldPercentInstitutions': 0.59397,\n 'netIncomeToCommon': 100554997760,\n 'trailingEps': 6.015,\n 'lastDividendValue': 0.22,\n 'SandP52WeekChange': 0.15217662,\n 'priceToBook': 40.38392,\n 'heldPercentInsiders': 0.0007,\n 'nextFiscalYearEnd': 1695600000,\n 'yield': None,\n 'mostRecentQuarter': 1640390400,\n 'shortRatio': 1.21,\n 'sharesShortPreviousMonthDate': 1644883200,\n 'floatShares': 16302795170,\n 'beta': 1.185531,\n 'enterpriseValue': 2959991898112,\n 'priceHint': 2,\n 'threeYearAverageReturn': None,\n 'lastSplitDate': 1598832000,\n 'lastSplitFactor': '4:1',\n 'legalType': None,\n 'lastDividendDate': 1643932800,\n 'morningStarOverallRating': None,\n 'earningsQuarterlyGrowth': 0.204,\n 'priceToSalesTrailing12Months': 7.668314,\n 'dateShortInterest': 1647302400,\n 'pegRatio': 1.94,\n 'ytdReturn': None,\n 'forwardPE': 27.099087,\n 'lastCapGain': None,\n 'shortPercentOfFloat': 0.0068,\n 'sharesShortPriorMonth': 108944701,\n 'impliedSharesOutstanding': 0,\n 'category': None,\n 'fiveYearAverageReturn': None,\n 'previousClose': 178.96,\n 'regularMarketOpen': 178.55,\n 'twoHundredDayAverage': 156.03505,\n 'trailingAnnualDividendYield': 0.004833482,\n 'payoutRatio': 0.1434,\n 'volume24Hr': None,\n 'regularMarketDayHigh': 179.61,\n 'navPrice': None,\n 'averageDailyVolume10Day': 93823630,\n 'regularMarketPreviousClose': 178.96,\n 'fiftyDayAverage': 166.498,\n 'trailingAnnualDividendRate': 0.865,\n 'open': 178.55,\n 'toCurrency': None,\n 'averageVolume10days': 93823630,\n 'expireDate': None,\n 'algorithm': None,\n 'dividendRate': 0.88,\n 'exDividendDate': 1643932800,\n 'circulatingSupply': None,\n 'startDate': None,\n 'regularMarketDayLow': 176.7,\n 'currency': 'USD',\n 'trailingPE': 29.55445,\n 'regularMarketVolume': 92633154,\n 'lastMarket': None,\n 'maxSupply': None,\n 'openInterest': None,\n 'marketCap': 2901099675648,\n 'volumeAllCurrencies': None,\n 'strikePrice': None,\n 'averageVolume': 95342043,\n 'dayLow': 176.7,\n 'ask': 178.53,\n 'askSize': 800,\n 'volume': 92633154,\n 'fiftyTwoWeekHigh': 182.94,\n 'fromCurrency': None,\n 'fiveYearAvgDividendYield': 1.13,\n 'fiftyTwoWeekLow': 122.25,\n 'bid': 178.4,\n 'tradeable': False,\n 'dividendYield': 0.005,\n 'bidSize': 3200,\n 'dayHigh': 179.61,\n 'regularMarketPrice': 177.77,\n 'preMarketPrice': 178.38,\n 'logo_url': 'https://logo.clearbit.com/apple.com'}"
                    },
                    "execution_count": 29,
                    "metadata": {},
                    "output_type": "execute_result"
                }
            ],
            "source": "import json\nwith open('apple.json') as json_file:\n    apple_info = json.load(json_file)\n    # Print the type of data variable\u00a0\u00a0\u00a0 \n    #print(\"Type:\", type(apple_info))\napple_info"
        },
        {
            "cell_type": "markdown",
            "metadata": {},
            "source": "#### Un simple llamado al dictionario"
        },
        {
            "cell_type": "code",
            "execution_count": 23,
            "metadata": {},
            "outputs": [
                {
                    "data": {
                        "text/plain": "'United States'"
                    },
                    "execution_count": 23,
                    "metadata": {},
                    "output_type": "execute_result"
                }
            ],
            "source": "apple_info['country']"
        },
        {
            "cell_type": "markdown",
            "metadata": {},
            "source": "#### Vean que ahora estamos llamando \" history() \" desde la variable \"apple\" del principio.. esto nos da un DataFrame"
        },
        {
            "cell_type": "code",
            "execution_count": 26,
            "metadata": {},
            "outputs": [
                {
                    "data": {
                        "text/html": "<div>\n<style scoped>\n    .dataframe tbody tr th:only-of-type {\n        vertical-align: middle;\n    }\n\n    .dataframe tbody tr th {\n        vertical-align: top;\n    }\n\n    .dataframe thead th {\n        text-align: right;\n    }\n</style>\n<table border=\"1\" class=\"dataframe\">\n  <thead>\n    <tr style=\"text-align: right;\">\n      <th></th>\n      <th>Open</th>\n      <th>High</th>\n      <th>Low</th>\n      <th>Close</th>\n      <th>Volume</th>\n      <th>Dividends</th>\n      <th>Stock Splits</th>\n    </tr>\n    <tr>\n      <th>Date</th>\n      <th></th>\n      <th></th>\n      <th></th>\n      <th></th>\n      <th></th>\n      <th></th>\n      <th></th>\n    </tr>\n  </thead>\n  <tbody>\n    <tr>\n      <th>1980-12-12 00:00:00-05:00</th>\n      <td>0.099722</td>\n      <td>0.100155</td>\n      <td>0.099722</td>\n      <td>0.099722</td>\n      <td>469033600</td>\n      <td>0.0</td>\n      <td>0.0</td>\n    </tr>\n    <tr>\n      <th>1980-12-15 00:00:00-05:00</th>\n      <td>0.094953</td>\n      <td>0.094953</td>\n      <td>0.094519</td>\n      <td>0.094519</td>\n      <td>175884800</td>\n      <td>0.0</td>\n      <td>0.0</td>\n    </tr>\n    <tr>\n      <th>1980-12-16 00:00:00-05:00</th>\n      <td>0.088015</td>\n      <td>0.088015</td>\n      <td>0.087582</td>\n      <td>0.087582</td>\n      <td>105728000</td>\n      <td>0.0</td>\n      <td>0.0</td>\n    </tr>\n    <tr>\n      <th>1980-12-17 00:00:00-05:00</th>\n      <td>0.089749</td>\n      <td>0.090183</td>\n      <td>0.089749</td>\n      <td>0.089749</td>\n      <td>86441600</td>\n      <td>0.0</td>\n      <td>0.0</td>\n    </tr>\n    <tr>\n      <th>1980-12-18 00:00:00-05:00</th>\n      <td>0.092351</td>\n      <td>0.092785</td>\n      <td>0.092351</td>\n      <td>0.092351</td>\n      <td>73449600</td>\n      <td>0.0</td>\n      <td>0.0</td>\n    </tr>\n    <tr>\n      <th>...</th>\n      <td>...</td>\n      <td>...</td>\n      <td>...</td>\n      <td>...</td>\n      <td>...</td>\n      <td>...</td>\n      <td>...</td>\n    </tr>\n    <tr>\n      <th>2023-03-20 00:00:00-04:00</th>\n      <td>155.070007</td>\n      <td>157.820007</td>\n      <td>154.149994</td>\n      <td>157.399994</td>\n      <td>73641400</td>\n      <td>0.0</td>\n      <td>0.0</td>\n    </tr>\n    <tr>\n      <th>2023-03-21 00:00:00-04:00</th>\n      <td>157.320007</td>\n      <td>159.399994</td>\n      <td>156.539993</td>\n      <td>159.279999</td>\n      <td>73938300</td>\n      <td>0.0</td>\n      <td>0.0</td>\n    </tr>\n    <tr>\n      <th>2023-03-22 00:00:00-04:00</th>\n      <td>159.300003</td>\n      <td>162.139999</td>\n      <td>157.809998</td>\n      <td>157.830002</td>\n      <td>75701800</td>\n      <td>0.0</td>\n      <td>0.0</td>\n    </tr>\n    <tr>\n      <th>2023-03-23 00:00:00-04:00</th>\n      <td>158.830002</td>\n      <td>161.550003</td>\n      <td>157.679993</td>\n      <td>158.929993</td>\n      <td>67622100</td>\n      <td>0.0</td>\n      <td>0.0</td>\n    </tr>\n    <tr>\n      <th>2023-03-24 00:00:00-04:00</th>\n      <td>158.860001</td>\n      <td>160.339996</td>\n      <td>157.850006</td>\n      <td>160.250000</td>\n      <td>59196500</td>\n      <td>0.0</td>\n      <td>0.0</td>\n    </tr>\n  </tbody>\n</table>\n<p>10660 rows \u00d7 7 columns</p>\n</div>",
                        "text/plain": "                                 Open        High         Low       Close  \\\nDate                                                                        \n1980-12-12 00:00:00-05:00    0.099722    0.100155    0.099722    0.099722   \n1980-12-15 00:00:00-05:00    0.094953    0.094953    0.094519    0.094519   \n1980-12-16 00:00:00-05:00    0.088015    0.088015    0.087582    0.087582   \n1980-12-17 00:00:00-05:00    0.089749    0.090183    0.089749    0.089749   \n1980-12-18 00:00:00-05:00    0.092351    0.092785    0.092351    0.092351   \n...                               ...         ...         ...         ...   \n2023-03-20 00:00:00-04:00  155.070007  157.820007  154.149994  157.399994   \n2023-03-21 00:00:00-04:00  157.320007  159.399994  156.539993  159.279999   \n2023-03-22 00:00:00-04:00  159.300003  162.139999  157.809998  157.830002   \n2023-03-23 00:00:00-04:00  158.830002  161.550003  157.679993  158.929993   \n2023-03-24 00:00:00-04:00  158.860001  160.339996  157.850006  160.250000   \n\n                              Volume  Dividends  Stock Splits  \nDate                                                           \n1980-12-12 00:00:00-05:00  469033600        0.0           0.0  \n1980-12-15 00:00:00-05:00  175884800        0.0           0.0  \n1980-12-16 00:00:00-05:00  105728000        0.0           0.0  \n1980-12-17 00:00:00-05:00   86441600        0.0           0.0  \n1980-12-18 00:00:00-05:00   73449600        0.0           0.0  \n...                              ...        ...           ...  \n2023-03-20 00:00:00-04:00   73641400        0.0           0.0  \n2023-03-21 00:00:00-04:00   73938300        0.0           0.0  \n2023-03-22 00:00:00-04:00   75701800        0.0           0.0  \n2023-03-23 00:00:00-04:00   67622100        0.0           0.0  \n2023-03-24 00:00:00-04:00   59196500        0.0           0.0  \n\n[10660 rows x 7 columns]"
                    },
                    "execution_count": 26,
                    "metadata": {},
                    "output_type": "execute_result"
                }
            ],
            "source": "\napple_share_price_data = apple.history(period=\"max\")\napple_share_price_data"
        }
    ],
    "metadata": {
        "kernelspec": {
            "display_name": "Python 3.10",
            "language": "python",
            "name": "python3"
        },
        "language_info": {
            "codemirror_mode": {
                "name": "ipython",
                "version": 3
            },
            "file_extension": ".py",
            "mimetype": "text/x-python",
            "name": "python",
            "nbconvert_exporter": "python",
            "pygments_lexer": "ipython3",
            "version": "3.10.9"
        }
    },
    "nbformat": 4,
    "nbformat_minor": 1
}